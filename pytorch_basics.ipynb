{
 "cells": [
  {
   "cell_type": "markdown",
   "id": "230eb211",
   "metadata": {},
   "source": [
    "#### basic operations in pytorch\n",
    "we will start with covering a set of basic operations in pytorch for manipulating tensor data"
   ]
  },
  {
   "cell_type": "code",
   "execution_count": 1,
   "id": "a6d41175",
   "metadata": {},
   "outputs": [
    {
     "name": "stderr",
     "output_type": "stream",
     "text": [
      "/Users/kosisochukwuasuzu/Developer/deeplearning-reference/.venv/lib/python3.13/site-packages/torch/_subclasses/functional_tensor.py:279: UserWarning: Failed to initialize NumPy: No module named 'numpy' (Triggered internally at /Users/runner/work/pytorch/pytorch/pytorch/torch/csrc/utils/tensor_numpy.cpp:84.)\n",
      "  cpu = _conversion_method_template(device=torch.device(\"cpu\"))\n"
     ]
    }
   ],
   "source": [
    "import torch"
   ]
  },
  {
   "cell_type": "code",
   "execution_count": 3,
   "id": "725c7f76",
   "metadata": {},
   "outputs": [
    {
     "name": "stdout",
     "output_type": "stream",
     "text": [
      "using device: mps\n"
     ]
    }
   ],
   "source": [
    "device = torch.device(\"cuda\" if torch.cuda.is_available() else \"mps\" if torch.backends.mps.is_available() else \"cpu\")\n",
    "print(f\"using device: {device}\")\n"
   ]
  },
  {
   "cell_type": "code",
   "execution_count": 4,
   "id": "bb257662",
   "metadata": {},
   "outputs": [
    {
     "name": "stdout",
     "output_type": "stream",
     "text": [
      "tensor(5.)\n"
     ]
    }
   ],
   "source": [
    "a = torch.tensor(2.0)\n",
    "b = torch.tensor(3.0)\n",
    "\n",
    "c = a + b\n",
    "print(c)"
   ]
  },
  {
   "cell_type": "code",
   "execution_count": 10,
   "id": "15880e9c",
   "metadata": {},
   "outputs": [],
   "source": [
    "# buildign a basic neural network\n",
    "import torch.nn as nn\n",
    "import torch.nn.functional as F\n",
    "import torch.optim as optim"
   ]
  },
  {
   "cell_type": "markdown",
   "id": "1ca9cea0",
   "metadata": {},
   "source": [
    "#### understanding the machine learning pipeline\n",
    "The machine learning pipeline consists of the following steps\n",
    "- data ingestion\n",
    "    - raw data collection\n",
    "- data preperation\n",
    "    - access quality efficiency\n",
    "- modeling\n",
    "    - model building\n",
    "- training\n",
    "    - measure diagnose adjust\n",
    "- evaluation\n",
    "    - testing debugging\n",
    "- deployment\n",
    "    - serving monitoring"
   ]
  },
  {
   "cell_type": "code",
   "execution_count": null,
   "id": "60fa2716",
   "metadata": {},
   "outputs": [],
   "source": [
    "# data ingestion and preperation\n",
    "distance = torch.tensor([[1.0], [2.0], [3.0], [4.0]], dtype=torch.float32)\n",
    "times = torch.tensor([[6.96], [12.11], [16.77], [22.21]], dtype=torch.float32)"
   ]
  },
  {
   "cell_type": "code",
   "execution_count": 8,
   "id": "7221a66f",
   "metadata": {},
   "outputs": [],
   "source": [
    "# modeling\n",
    "model = nn.Sequential(\n",
    "    nn.Linear(1, 1),\n",
    "    nn.Linear(1, 1)\n",
    ")\n"
   ]
  },
  {
   "cell_type": "code",
   "execution_count": 11,
   "id": "be38ec86",
   "metadata": {},
   "outputs": [],
   "source": [
    "# training setup\n",
    "loss_fn = nn.MSELoss(reduction='sum')\n",
    "optimizer = optim.SGD(model.parameters(), lr=0.001)"
   ]
  },
  {
   "cell_type": "code",
   "execution_count": null,
   "id": "99f79abe",
   "metadata": {},
   "outputs": [],
   "source": [
    "# training loop\n",
    "for epoch in range(500):\n",
    "    optimizer.zero_grad()\n",
    "    output = model(distance)\n",
    "    loss = loss_fn(output, times)\n",
    "    loss.backward()\n",
    "    optimizer.step()\n"
   ]
  }
 ],
 "metadata": {
  "kernelspec": {
   "display_name": ".venv",
   "language": "python",
   "name": "python3"
  },
  "language_info": {
   "codemirror_mode": {
    "name": "ipython",
    "version": 3
   },
   "file_extension": ".py",
   "mimetype": "text/x-python",
   "name": "python",
   "nbconvert_exporter": "python",
   "pygments_lexer": "ipython3",
   "version": "3.13.1"
  }
 },
 "nbformat": 4,
 "nbformat_minor": 5
}
